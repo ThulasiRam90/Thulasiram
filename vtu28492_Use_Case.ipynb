{
  "nbformat": 4,
  "nbformat_minor": 0,
  "metadata": {
    "colab": {
      "provenance": [],
      "authorship_tag": "ABX9TyNYNx706pcI14yq+ocP9RRF",
      "include_colab_link": true
    },
    "kernelspec": {
      "name": "python3",
      "display_name": "Python 3"
    },
    "language_info": {
      "name": "python"
    }
  },
  "cells": [
    {
      "cell_type": "markdown",
      "metadata": {
        "id": "view-in-github",
        "colab_type": "text"
      },
      "source": [
        "<a href=\"https://colab.research.google.com/github/ThulasiRam90/Thulasiram/blob/main/vtu28492_Use_Case.ipynb\" target=\"_parent\"><img src=\"https://colab.research.google.com/assets/colab-badge.svg\" alt=\"Open In Colab\"/></a>"
      ]
    },
    {
      "cell_type": "code",
      "execution_count": null,
      "metadata": {
        "id": "1R25TaJcDkjH"
      },
      "outputs": [],
      "source": [
        "# Plotting Probabilities using Matplotlib\n",
        "import numpy as np\n",
        "import matplotlib.pyplot as plt\n",
        "# Step 1: Generate random data (Normal Distribution)\n",
        "data = np.random.normal(0, 1, 1000)\n",
        "# Step 2: Plot histogram with probability density\n",
        "plt.hist(data, bins=30, density=True, alpha=0.6, color='skyblue', edgecolor='black')\n",
        "# Step 3: Plot the theoretical normal distribution curve\n",
        "xmin, xmax = plt.xlim()\n",
        "x = np.linspace(xmin, xmax, 100)\n",
        "p = 1/(np.sqrt(2*np.pi)) * np.exp(-0.5 * x**2)\n",
        "plt.plot(x, p, 'r', linewidth=2)\n",
        "# Step 4: Add labels and title\n",
        "plt.title(\"Plotting Probabilities using Matplotlib\")\n",
        "plt.xlabel(\"Value\")\n",
        "plt.ylabel(\"Probability Density\")\n",
        "plt.grid(True)\n",
        "# Step 5: Display the plot\n",
        "plt.show()"
      ]
    }
  ]
}